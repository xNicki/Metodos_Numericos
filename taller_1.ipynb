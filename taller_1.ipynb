{
 "cells": [
  {
   "cell_type": "markdown",
   "id": "165659e5",
   "metadata": {},
   "source": [
    "TALLER 01\n",
    "\n",
    "Anahi Achote"
   ]
  },
  {
   "cell_type": "markdown",
   "id": "a7ce765c",
   "metadata": {},
   "source": [
    "Ejercicio 1\n",
    "\n",
    "La sumatoria de $1 + \\frac{1}{2} + \\frac{1}{4} + \\frac{1}{8} + \\dots$ tal que el error absoluto $e_{abs} < 10^{-1}$\n"
   ]
  },
  {
   "cell_type": "code",
   "execution_count": 2,
   "id": "42fbf002",
   "metadata": {},
   "outputs": [
    {
     "name": "stdout",
     "output_type": "stream",
     "text": [
      "La suma parcial es: 1.9375\n",
      "Número de términos necesarios: 5\n"
     ]
    }
   ],
   "source": [
    "suma = 0\n",
    "termino = 1 # primer valor de la sumatoria\n",
    "valor_real = 2 # convergencia de la sumatoria\n",
    "error_esperado = 0.1\n",
    "suma_parcial = 0\n",
    "lista_terminos = []\n",
    "\n",
    "# Bucle que termina si el valor absoluto sobrepasa el error esperado\n",
    "while abs(valor_real - suma_parcial) > error_esperado:\n",
    "    suma_parcial += termino\n",
    "    lista_terminos.append(termino) #se agrega a la lista\n",
    "    termino = termino / 2 #\n",
    "\n",
    "print(\"La suma parcial es:\", suma_parcial)\n",
    "print(\"Número de términos necesarios:\", len(lista_terminos))"
   ]
  },
  {
   "cell_type": "markdown",
   "id": "34038c51",
   "metadata": {},
   "source": [
    "Algoritmo 2 (Bubble Sort)\n"
   ]
  },
  {
   "cell_type": "code",
   "execution_count": 5,
   "id": "a05ff3f3",
   "metadata": {},
   "outputs": [
    {
     "name": "stdout",
     "output_type": "stream",
     "text": [
      "v1 ordenada: [1, 2, 3, 4, 5, 8]\n",
      "v2 ordenada: [-1, 0, 4, 5, 6, 7]\n"
     ]
    }
   ],
   "source": [
    "import random\n",
    "\n",
    "v1 = [3, 2, 5, 8, 4, 1]\n",
    "v2 = [6, 7, 4, 5, -1, 0]\n",
    "v3 = [random.randint(-200, 145) for _ in range(100_000)]\n",
    "\n",
    "\n",
    "def bubble_sort(lista):\n",
    "    for i in range(len(lista)):\n",
    "        swapped = False\n",
    "        for j in range(1, len(lista) - i):\n",
    "            if lista[j] < lista[j-1]:\n",
    "                lista[j], lista[j-1] = lista[j-1], lista[j]\n",
    "                swapped = True\n",
    "        if not swapped:\n",
    "            break\n",
    "    return lista\n",
    "\n",
    "print(\"v1 ordenada:\", bubble_sort(v1.copy()))\n",
    "print(\"v2 ordenada:\", bubble_sort(v2.copy()))\n"
   ]
  },
  {
   "cell_type": "markdown",
   "id": "9e6af7a5",
   "metadata": {},
   "source": [
    "Algoritmo 3\n",
    "\n",
    "Serie de Fibonacci"
   ]
  },
  {
   "cell_type": "code",
   "execution_count": 4,
   "id": "2d23318e",
   "metadata": {},
   "outputs": [
    {
     "name": "stdout",
     "output_type": "stream",
     "text": [
      "89\n",
      "160500643816367088\n",
      "40793617605237766910177891101532305954169356679469251968012246320785442201399010062608120133898796842159214701491227645296640251351118097414452512943377923944240851901342511998321837317687231200181404989351498771613091128609066442842273029931595972451439617557382711759593384278734694858010024767646023157013418593547269\n"
     ]
    }
   ],
   "source": [
    "\n",
    "def fibonacci(n):\n",
    "  if(n==0):\n",
    "    return n\n",
    "  else:\n",
    "    x = 0\n",
    "    y = 1\n",
    "    for i in range(n-1):\n",
    "      z = x + y\n",
    "      x = y\n",
    "      y = z\n",
    "  return y\n",
    "\n",
    "print(fibonacci(11))\n",
    "print(fibonacci(84))\n",
    "print(fibonacci(1531))"
   ]
  },
  {
   "cell_type": "markdown",
   "id": "e530b8b1",
   "metadata": {},
   "source": [
    "Algoritmo 4\n"
   ]
  },
  {
   "cell_type": "code",
   "execution_count": 6,
   "id": "f7aa5eae",
   "metadata": {},
   "outputs": [
    {
     "name": "stdout",
     "output_type": "stream",
     "text": [
      "v1 ordenada: [1, 2, 3, 4, 5, 8] Comparaciones: 15\n",
      "v2 ordenada: [-1, 0, 4, 5, 6, 7] Comparaciones: 15\n"
     ]
    }
   ],
   "source": [
    "import random\n",
    "\n",
    "v1 = [3, 2, 5, 8, 4, 1]\n",
    "v2 = [6, 7, 4, 5, -1, 0]\n",
    "v3 = [random.randint(-200, 145) for _ in range(100_000)]\n",
    "\n",
    "def bubble_sort(lista):\n",
    "    comparaciones = 0  # contador de comparaciones\n",
    "    for i in range(len(lista)):\n",
    "        swapped = False\n",
    "        for j in range(1, len(lista) - i):\n",
    "            comparaciones += 1  # cada vez que se compara\n",
    "            if lista[j] < lista[j-1]:\n",
    "                lista[j], lista[j-1] = lista[j-1], lista[j]\n",
    "                swapped = True\n",
    "        if not swapped:\n",
    "            break\n",
    "    return lista, comparaciones  # devolvemos la lista y el número de comparaciones\n",
    "\n",
    "# Ahora imprimimos el resultado y las comparaciones\n",
    "ordenada, comps = bubble_sort(v1.copy())\n",
    "print(\"v1 ordenada:\", ordenada, \"Comparaciones:\", comps)\n",
    "\n",
    "ordenada, comps = bubble_sort(v2.copy())\n",
    "print(\"v2 ordenada:\", ordenada, \"Comparaciones:\", comps)\n"
   ]
  }
 ],
 "metadata": {
  "kernelspec": {
   "display_name": "Python 3",
   "language": "python",
   "name": "python3"
  },
  "language_info": {
   "codemirror_mode": {
    "name": "ipython",
    "version": 3
   },
   "file_extension": ".py",
   "mimetype": "text/x-python",
   "name": "python",
   "nbconvert_exporter": "python",
   "pygments_lexer": "ipython3",
   "version": "3.12.4"
  }
 },
 "nbformat": 4,
 "nbformat_minor": 5
}
