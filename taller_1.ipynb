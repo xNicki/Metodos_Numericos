{
 "cells": [
  {
   "cell_type": "markdown",
   "id": "165659e5",
   "metadata": {},
   "source": [
    "TALLER 01\n",
    "\n",
    "Anahi Achote"
   ]
  },
  {
   "cell_type": "markdown",
   "id": "a7ce765c",
   "metadata": {},
   "source": [
    "Ejercicio 1\n",
    "\n",
    "La sumatoria de $1 + \\frac{1}{2} + \\frac{1}{4} + \\frac{1}{8} + \\dots$ tal que el error absoluto $e_{abs} < 10^{-1}$\n"
   ]
  },
  {
   "cell_type": "code",
   "execution_count": 2,
   "id": "42fbf002",
   "metadata": {},
   "outputs": [
    {
     "name": "stdout",
     "output_type": "stream",
     "text": [
      "La suma parcial es: 1.9375\n",
      "Número de términos necesarios: 5\n"
     ]
    }
   ],
   "source": [
    "suma = 0\n",
    "termino = 1 # primer valor de la sumatoria\n",
    "valor_real = 2 # convergencia de la sumatoria\n",
    "error_esperado = 0.1\n",
    "suma_parcial = 0\n",
    "lista_terminos = []\n",
    "\n",
    "# Bucle que termina si el valor absoluto sobrepasa el error esperado\n",
    "while abs(valor_real - suma_parcial) > error_esperado:\n",
    "    suma_parcial += termino\n",
    "    lista_terminos.append(termino) #se agrega a la lista\n",
    "    termino = termino / 2 #\n",
    "\n",
    "print(\"La suma parcial es:\", suma_parcial)\n",
    "print(\"Número de términos necesarios:\", len(lista_terminos))"
   ]
  },
  {
   "cell_type": "markdown",
   "id": "34038c51",
   "metadata": {},
   "source": [
    "\n"
   ]
  },
  {
   "cell_type": "markdown",
   "id": "9e6af7a5",
   "metadata": {},
   "source": []
  },
  {
   "cell_type": "markdown",
   "id": "e530b8b1",
   "metadata": {},
   "source": [
    "\n"
   ]
  }
 ],
 "metadata": {
  "kernelspec": {
   "display_name": "Python 3",
   "language": "python",
   "name": "python3"
  },
  "language_info": {
   "codemirror_mode": {
    "name": "ipython",
    "version": 3
   },
   "file_extension": ".py",
   "mimetype": "text/x-python",
   "name": "python",
   "nbconvert_exporter": "python",
   "pygments_lexer": "ipython3",
   "version": "3.12.4"
  }
 },
 "nbformat": 4,
 "nbformat_minor": 5
}
